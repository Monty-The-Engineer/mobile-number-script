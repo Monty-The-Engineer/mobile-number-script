{
 "cells": [
  {
   "cell_type": "code",
   "execution_count": 3,
   "metadata": {},
   "outputs": [],
   "source": [
    "# Import Libraries\n",
    "import pandas as pd\n",
    "import numpy as np\n",
    "import re"
   ]
  },
  {
   "cell_type": "markdown",
   "metadata": {},
   "source": [
    "### Section 2: Python"
   ]
  },
  {
   "cell_type": "markdown",
   "metadata": {},
   "source": [
    "1.\tWrite a python function which cleans a mobile phone number.\n",
    "\n",
    "    a.\tRemove all non-numeric characters from the string.\n",
    "    \n",
    "    b.\tAdd an initial zero if it is missing.\n",
    "    \n",
    "    c.\tRaise an error if the number provided is not the correct length after adjusting for the initial zero.\n",
    "    \n",
    "    d.\tReturn the cleaned number.\n",
    "    \n",
    "    e.\tSave your code in a file and push it to your GitHub account. Provide just the link to your code in the answer. Remember to set the repository as public so we can access it.\n"
   ]
  },
  {
   "cell_type": "code",
   "execution_count": 4,
   "metadata": {},
   "outputs": [],
   "source": [
    "def Clean(number):\n",
    "    \n",
    "    \"\"\"Enter and clean mobile phone number\"\"\"\n",
    "\n",
    "    # Remove all non -numeric characters\n",
    "    x = re.findall(\"\\d\", number)\n",
    "\n",
    "    # Add an initial zero if it is missing\n",
    "    if x[0] != '0':\n",
    "        x.insert(0, '0')\n",
    "\n",
    "    # Raise valuerError if number length is incorrect\n",
    "    if len(x) != 10:\n",
    "        raise ValueError('Incorrect Length')\n",
    "        \n",
    "    string = \"\".join(x)\n",
    "\n",
    "    return (string)"
   ]
  }
 ],
 "metadata": {
  "kernelspec": {
   "display_name": "Python 3",
   "language": "python",
   "name": "python3"
  },
  "language_info": {
   "codemirror_mode": {
    "name": "ipython",
    "version": 3
   },
   "file_extension": ".py",
   "mimetype": "text/x-python",
   "name": "python",
   "nbconvert_exporter": "python",
   "pygments_lexer": "ipython3",
   "version": "3.7.6"
  }
 },
 "nbformat": 4,
 "nbformat_minor": 4
}
